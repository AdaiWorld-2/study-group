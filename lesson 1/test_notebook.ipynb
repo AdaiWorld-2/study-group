{
 "cells": [
  {
   "cell_type": "code",
   "execution_count": 1,
   "id": "1649bc8b-ddf8-4e81-ae37-0637d2a6196a",
   "metadata": {},
   "outputs": [
    {
     "name": "stdout",
     "output_type": "stream",
     "text": [
      "Running on PyMC3 v4.0.0b3\n"
     ]
    }
   ],
   "source": [
    "import warnings\n",
    "\n",
    "import arviz as az\n",
    "import matplotlib.pyplot as plt\n",
    "import numpy as np\n",
    "import pandas as pd\n",
    "import pymc as pm\n",
    "import xarray as xr\n",
    "\n",
    "print(f\"Running on PyMC3 v{pm.__version__}\")\n",
    "warnings.simplefilter(action=\"ignore\", category=FutureWarning)\n",
    "RANDOM_SEED = 8924\n",
    "np.random.seed(286)"
   ]
  },
  {
   "cell_type": "code",
   "execution_count": 2,
   "id": "41e2b979-e686-46ba-993a-5cad4199fa46",
   "metadata": {},
   "outputs": [],
   "source": [
    "az.style.use(\"arviz-darkgrid\")\n",
    "# Import radon data\n",
    "srrs2 = pd.read_csv(pm.get_data(\"srrs2.dat\"))\n",
    "srrs2.columns = srrs2.columns.map(str.strip)\n",
    "srrs_mn = srrs2[srrs2.state == \"MN\"].copy()"
   ]
  },
  {
   "cell_type": "code",
   "execution_count": 3,
   "id": "6e8a1405-0aa9-4973-aa84-f6db378afb85",
   "metadata": {},
   "outputs": [],
   "source": [
    "srrs_mn[\"fips\"] = srrs_mn.stfips * 1000 + srrs_mn.cntyfips\n",
    "cty = pd.read_csv(pm.get_data(\"cty.dat\"))\n",
    "cty_mn = cty[cty.st == \"MN\"].copy()\n",
    "cty_mn[\"fips\"] = 1000 * cty_mn.stfips + cty_mn.ctfips"
   ]
  },
  {
   "cell_type": "code",
   "execution_count": 20,
   "id": "01c7a38e-ad6c-4c6f-8073-11414f33b0c5",
   "metadata": {},
   "outputs": [
    {
     "ename": "AttributeError",
     "evalue": "'DataFrame' object has no attribute 'Uppm'",
     "output_type": "error",
     "traceback": [
      "\u001b[0;31m---------------------------------------------------------------------------\u001b[0m",
      "\u001b[0;31mAttributeError\u001b[0m                            Traceback (most recent call last)",
      "Input \u001b[0;32mIn [20]\u001b[0m, in \u001b[0;36m<cell line: 3>\u001b[0;34m()\u001b[0m\n\u001b[1;32m      1\u001b[0m srrs_mn \u001b[38;5;241m=\u001b[39m srrs_mn\u001b[38;5;241m.\u001b[39mmerge(cty_mn[[\u001b[38;5;124m\"\u001b[39m\u001b[38;5;124mfips\u001b[39m\u001b[38;5;124m\"\u001b[39m, \u001b[38;5;124m\"\u001b[39m\u001b[38;5;124mUppm\u001b[39m\u001b[38;5;124m\"\u001b[39m]], on\u001b[38;5;241m=\u001b[39m\u001b[38;5;124m\"\u001b[39m\u001b[38;5;124mfips\u001b[39m\u001b[38;5;124m\"\u001b[39m)\n\u001b[1;32m      2\u001b[0m srrs_mn \u001b[38;5;241m=\u001b[39m srrs_mn\u001b[38;5;241m.\u001b[39mdrop_duplicates(subset\u001b[38;5;241m=\u001b[39m\u001b[38;5;124m\"\u001b[39m\u001b[38;5;124midnum\u001b[39m\u001b[38;5;124m\"\u001b[39m)\n\u001b[0;32m----> 3\u001b[0m u \u001b[38;5;241m=\u001b[39m np\u001b[38;5;241m.\u001b[39mlog(\u001b[43msrrs_mn\u001b[49m\u001b[38;5;241;43m.\u001b[39;49m\u001b[43mUppm\u001b[49m)\u001b[38;5;241m.\u001b[39munique()\n\u001b[1;32m      5\u001b[0m n \u001b[38;5;241m=\u001b[39m \u001b[38;5;28mlen\u001b[39m(srrs_mn)\n",
      "File \u001b[0;32m~/opt/anaconda3/envs/study-group/lib/python3.9/site-packages/pandas/core/generic.py:5583\u001b[0m, in \u001b[0;36mNDFrame.__getattr__\u001b[0;34m(self, name)\u001b[0m\n\u001b[1;32m   5576\u001b[0m \u001b[38;5;28;01mif\u001b[39;00m (\n\u001b[1;32m   5577\u001b[0m     name \u001b[38;5;129;01mnot\u001b[39;00m \u001b[38;5;129;01min\u001b[39;00m \u001b[38;5;28mself\u001b[39m\u001b[38;5;241m.\u001b[39m_internal_names_set\n\u001b[1;32m   5578\u001b[0m     \u001b[38;5;129;01mand\u001b[39;00m name \u001b[38;5;129;01mnot\u001b[39;00m \u001b[38;5;129;01min\u001b[39;00m \u001b[38;5;28mself\u001b[39m\u001b[38;5;241m.\u001b[39m_metadata\n\u001b[1;32m   5579\u001b[0m     \u001b[38;5;129;01mand\u001b[39;00m name \u001b[38;5;129;01mnot\u001b[39;00m \u001b[38;5;129;01min\u001b[39;00m \u001b[38;5;28mself\u001b[39m\u001b[38;5;241m.\u001b[39m_accessors\n\u001b[1;32m   5580\u001b[0m     \u001b[38;5;129;01mand\u001b[39;00m \u001b[38;5;28mself\u001b[39m\u001b[38;5;241m.\u001b[39m_info_axis\u001b[38;5;241m.\u001b[39m_can_hold_identifiers_and_holds_name(name)\n\u001b[1;32m   5581\u001b[0m ):\n\u001b[1;32m   5582\u001b[0m     \u001b[38;5;28;01mreturn\u001b[39;00m \u001b[38;5;28mself\u001b[39m[name]\n\u001b[0;32m-> 5583\u001b[0m \u001b[38;5;28;01mreturn\u001b[39;00m \u001b[38;5;28;43mobject\u001b[39;49m\u001b[38;5;241;43m.\u001b[39;49m\u001b[38;5;21;43m__getattribute__\u001b[39;49m\u001b[43m(\u001b[49m\u001b[38;5;28;43mself\u001b[39;49m\u001b[43m,\u001b[49m\u001b[43m \u001b[49m\u001b[43mname\u001b[49m\u001b[43m)\u001b[49m\n",
      "\u001b[0;31mAttributeError\u001b[0m: 'DataFrame' object has no attribute 'Uppm'"
     ]
    }
   ],
   "source": [
    "srrs_mn = srrs_mn.merge(cty_mn[[\"fips\", \"Uppm\"]], on=\"fips\")\n",
    "srrs_mn = srrs_mn.drop_duplicates(subset=\"idnum\")\n",
    "u = np.log(srrs_mn.Uppm).unique()\n",
    "\n",
    "n = len(srrs_mn)"
   ]
  },
  {
   "cell_type": "code",
   "execution_count": 5,
   "id": "ec413b74-17e9-4e3e-8753-463c852fcf24",
   "metadata": {},
   "outputs": [
    {
     "data": {
      "text/html": [
       "<div>\n",
       "<style scoped>\n",
       "    .dataframe tbody tr th:only-of-type {\n",
       "        vertical-align: middle;\n",
       "    }\n",
       "\n",
       "    .dataframe tbody tr th {\n",
       "        vertical-align: top;\n",
       "    }\n",
       "\n",
       "    .dataframe thead th {\n",
       "        text-align: right;\n",
       "    }\n",
       "</style>\n",
       "<table border=\"1\" class=\"dataframe\">\n",
       "  <thead>\n",
       "    <tr style=\"text-align: right;\">\n",
       "      <th></th>\n",
       "      <th>idnum</th>\n",
       "      <th>state</th>\n",
       "      <th>state2</th>\n",
       "      <th>stfips</th>\n",
       "      <th>zip</th>\n",
       "      <th>region</th>\n",
       "      <th>typebldg</th>\n",
       "      <th>floor</th>\n",
       "      <th>room</th>\n",
       "      <th>basement</th>\n",
       "      <th>...</th>\n",
       "      <th>stopdt</th>\n",
       "      <th>activity</th>\n",
       "      <th>pcterr</th>\n",
       "      <th>adjwt</th>\n",
       "      <th>dupflag</th>\n",
       "      <th>zipflag</th>\n",
       "      <th>cntyfips</th>\n",
       "      <th>county</th>\n",
       "      <th>fips</th>\n",
       "      <th>Uppm</th>\n",
       "    </tr>\n",
       "  </thead>\n",
       "  <tbody>\n",
       "    <tr>\n",
       "      <th>0</th>\n",
       "      <td>5081</td>\n",
       "      <td>MN</td>\n",
       "      <td>MN</td>\n",
       "      <td>27</td>\n",
       "      <td>55735</td>\n",
       "      <td>5</td>\n",
       "      <td>1</td>\n",
       "      <td>1</td>\n",
       "      <td>3</td>\n",
       "      <td>N</td>\n",
       "      <td>...</td>\n",
       "      <td>12288</td>\n",
       "      <td>2.2</td>\n",
       "      <td>9.7</td>\n",
       "      <td>1146.499190</td>\n",
       "      <td>1</td>\n",
       "      <td>0</td>\n",
       "      <td>1</td>\n",
       "      <td>AITKIN</td>\n",
       "      <td>27001</td>\n",
       "      <td>0.502054</td>\n",
       "    </tr>\n",
       "    <tr>\n",
       "      <th>1</th>\n",
       "      <td>5082</td>\n",
       "      <td>MN</td>\n",
       "      <td>MN</td>\n",
       "      <td>27</td>\n",
       "      <td>55748</td>\n",
       "      <td>5</td>\n",
       "      <td>1</td>\n",
       "      <td>0</td>\n",
       "      <td>4</td>\n",
       "      <td>Y</td>\n",
       "      <td>...</td>\n",
       "      <td>12088</td>\n",
       "      <td>2.2</td>\n",
       "      <td>14.5</td>\n",
       "      <td>471.366223</td>\n",
       "      <td>0</td>\n",
       "      <td>0</td>\n",
       "      <td>1</td>\n",
       "      <td>AITKIN</td>\n",
       "      <td>27001</td>\n",
       "      <td>0.502054</td>\n",
       "    </tr>\n",
       "    <tr>\n",
       "      <th>2</th>\n",
       "      <td>5083</td>\n",
       "      <td>MN</td>\n",
       "      <td>MN</td>\n",
       "      <td>27</td>\n",
       "      <td>55748</td>\n",
       "      <td>5</td>\n",
       "      <td>1</td>\n",
       "      <td>0</td>\n",
       "      <td>4</td>\n",
       "      <td>Y</td>\n",
       "      <td>...</td>\n",
       "      <td>21188</td>\n",
       "      <td>2.9</td>\n",
       "      <td>9.6</td>\n",
       "      <td>433.316718</td>\n",
       "      <td>0</td>\n",
       "      <td>0</td>\n",
       "      <td>1</td>\n",
       "      <td>AITKIN</td>\n",
       "      <td>27001</td>\n",
       "      <td>0.502054</td>\n",
       "    </tr>\n",
       "    <tr>\n",
       "      <th>3</th>\n",
       "      <td>5084</td>\n",
       "      <td>MN</td>\n",
       "      <td>MN</td>\n",
       "      <td>27</td>\n",
       "      <td>56469</td>\n",
       "      <td>5</td>\n",
       "      <td>1</td>\n",
       "      <td>0</td>\n",
       "      <td>4</td>\n",
       "      <td>Y</td>\n",
       "      <td>...</td>\n",
       "      <td>123187</td>\n",
       "      <td>1.0</td>\n",
       "      <td>24.3</td>\n",
       "      <td>461.623670</td>\n",
       "      <td>0</td>\n",
       "      <td>0</td>\n",
       "      <td>1</td>\n",
       "      <td>AITKIN</td>\n",
       "      <td>27001</td>\n",
       "      <td>0.502054</td>\n",
       "    </tr>\n",
       "    <tr>\n",
       "      <th>4</th>\n",
       "      <td>5085</td>\n",
       "      <td>MN</td>\n",
       "      <td>MN</td>\n",
       "      <td>27</td>\n",
       "      <td>55011</td>\n",
       "      <td>3</td>\n",
       "      <td>1</td>\n",
       "      <td>0</td>\n",
       "      <td>4</td>\n",
       "      <td>Y</td>\n",
       "      <td>...</td>\n",
       "      <td>13088</td>\n",
       "      <td>3.1</td>\n",
       "      <td>13.8</td>\n",
       "      <td>433.316718</td>\n",
       "      <td>0</td>\n",
       "      <td>0</td>\n",
       "      <td>3</td>\n",
       "      <td>ANOKA</td>\n",
       "      <td>27003</td>\n",
       "      <td>0.428565</td>\n",
       "    </tr>\n",
       "  </tbody>\n",
       "</table>\n",
       "<p>5 rows × 27 columns</p>\n",
       "</div>"
      ],
      "text/plain": [
       "   idnum state state2  stfips    zip  region  typebldg  floor  room basement  \\\n",
       "0   5081    MN     MN      27  55735       5         1      1     3        N   \n",
       "1   5082    MN     MN      27  55748       5         1      0     4        Y   \n",
       "2   5083    MN     MN      27  55748       5         1      0     4        Y   \n",
       "3   5084    MN     MN      27  56469       5         1      0     4        Y   \n",
       "4   5085    MN     MN      27  55011       3         1      0     4        Y   \n",
       "\n",
       "   ...  stopdt activity  pcterr        adjwt  dupflag  zipflag  cntyfips  \\\n",
       "0  ...   12288      2.2     9.7  1146.499190        1        0         1   \n",
       "1  ...   12088      2.2    14.5   471.366223        0        0         1   \n",
       "2  ...   21188      2.9     9.6   433.316718        0        0         1   \n",
       "3  ...  123187      1.0    24.3   461.623670        0        0         1   \n",
       "4  ...   13088      3.1    13.8   433.316718        0        0         3   \n",
       "\n",
       "                 county   fips      Uppm  \n",
       "0  AITKIN                27001  0.502054  \n",
       "1  AITKIN                27001  0.502054  \n",
       "2  AITKIN                27001  0.502054  \n",
       "3  AITKIN                27001  0.502054  \n",
       "4  ANOKA                 27003  0.428565  \n",
       "\n",
       "[5 rows x 27 columns]"
      ]
     },
     "execution_count": 5,
     "metadata": {},
     "output_type": "execute_result"
    }
   ],
   "source": [
    "srrs_mn.head()"
   ]
  },
  {
   "cell_type": "code",
   "execution_count": 6,
   "id": "962c0627-aae3-4f5d-bb22-0b2e5329e594",
   "metadata": {},
   "outputs": [],
   "source": [
    "srrs_mn.county = srrs_mn.county.map(str.strip)\n",
    "mn_counties = srrs_mn.county.unique()\n",
    "counties = len(mn_counties)\n",
    "county_lookup = dict(zip(mn_counties, range(counties)))"
   ]
  },
  {
   "cell_type": "code",
   "execution_count": 7,
   "id": "ea22ca24-b2d7-4d15-9af3-58ea6c1e53a5",
   "metadata": {},
   "outputs": [],
   "source": [
    "county = srrs_mn[\"county_code\"] = srrs_mn.county.replace(county_lookup).values\n",
    "radon = srrs_mn.activity\n",
    "srrs_mn[\"log_radon\"] = log_radon = np.log(radon + 0.1).values\n",
    "floor = srrs_mn.floor.values"
   ]
  },
  {
   "cell_type": "code",
   "execution_count": 8,
   "id": "cc65bab7-73b0-4140-b163-1d96644145a5",
   "metadata": {},
   "outputs": [
    {
     "data": {
      "image/png": "[encoded data removed]",
      "text/plain": [
       "<Figure size 720x480 with 1 Axes>"
      ]
     },
     "metadata": {},
     "output_type": "display_data"
    }
   ],
   "source": [
    "srrs_mn.log_radon.hist(bins=25);"
   ]
  },
  {
   "cell_type": "code",
   "execution_count": 9,
   "id": "e12c5814-6971-47a9-8b07-7d4e88b331a4",
   "metadata": {},
   "outputs": [
    {
     "name": "stderr",
     "output_type": "stream",
     "text": [
      "Warning: Could not load \"/Users/tomkealy/opt/anaconda3/envs/study-group/lib/graphviz/libgvplugin_pango.6.dylib\" - It was found, so perhaps one of its dependents was not.  Try ldd.\n"
     ]
    },
    {
     "data": {
      "image/svg+xml": [
       "<?xml version=\"1.0\" encoding=\"UTF-8\" standalone=\"no\"?>\n",
       "<!DOCTYPE svg PUBLIC \"-//W3C//DTD SVG 1.1//EN\"\n",
       " \"http://www.w3.org/Graphics/SVG/1.1/DTD/svg11.dtd\">\n",
       "<!-- Generated by graphviz version 3.0.0 (0)\n",
       " -->\n",
       "<!-- Pages: 1 -->\n",
       "<svg width=\"370pt\" height=\"271pt\"\n",
       " viewBox=\"0.00 0.00 370.15 270.78\" xmlns=\"http://www.w3.org/2000/svg\" xmlns:xlink=\"http://www.w3.org/1999/xlink\">\n",
       "<g id=\"graph0\" class=\"graph\" transform=\"scale(1 1) rotate(0) translate(4 266.78)\">\n",
       "<polygon fill=\"white\" stroke=\"transparent\" points=\"-4,4 -4,-266.78 366.15,-266.78 366.15,4 -4,4\"/>\n",
       "<g id=\"clust1\" class=\"cluster\">\n",
       "<title>clusterobs_id (919)</title>\n",
       "<path fill=\"none\" stroke=\"black\" d=\"M20,-8C20,-8 114,-8 114,-8 120,-8 126,-14 126,-20 126,-20 126,-230.69 126,-230.69 126,-236.69 120,-242.69 114,-242.69 114,-242.69 20,-242.69 20,-242.69 14,-242.69 8,-236.69 8,-230.69 8,-230.69 8,-20 8,-20 8,-14 14,-8 20,-8\"/>\n",
       "<text text-anchor=\"middle\" x=\"82.42\" y=\"-16.2\" font-family=\"Times,serif\" font-size=\"14.00\">obs_id (919)</text>\n",
       "</g>\n",
       "<g id=\"clust2\" class=\"cluster\">\n",
       "<title>clusterLevel (2)</title>\n",
       "<path fill=\"none\" stroke=\"black\" d=\"M146,-131.39C146,-131.39 222,-131.39 222,-131.39 228,-131.39 234,-137.39 234,-143.39 234,-143.39 234,-242.78 234,-242.78 234,-248.78 228,-254.78 222,-254.78 222,-254.78 146,-254.78 146,-254.78 140,-254.78 134,-248.78 134,-242.78 134,-242.78 134,-143.39 134,-143.39 134,-137.39 140,-131.39 146,-131.39\"/>\n",
       "<text text-anchor=\"middle\" x=\"200.15\" y=\"-139.59\" font-family=\"Times,serif\" font-size=\"14.00\">Level (2)</text>\n",
       "</g>\n",
       "<!-- floor_idx -->\n",
       "<g id=\"node1\" class=\"node\">\n",
       "<title>floor_idx</title>\n",
       "<path fill=\"lightgrey\" stroke=\"black\" d=\"M93.58,-234.89C93.58,-234.89 28.42,-234.89 28.42,-234.89 22.42,-234.89 16.42,-228.89 16.42,-222.89 16.42,-222.89 16.42,-188.08 16.42,-188.08 16.42,-182.08 22.42,-176.08 28.42,-176.08 28.42,-176.08 93.58,-176.08 93.58,-176.08 99.58,-176.08 105.58,-182.08 105.58,-188.08 105.58,-188.08 105.58,-222.89 105.58,-222.89 105.58,-228.89 99.58,-234.89 93.58,-234.89\"/>\n",
       "<text text-anchor=\"middle\" x=\"61\" y=\"-218.09\" font-family=\"Times,serif\" font-size=\"14.00\">floor_idx</text>\n",
       "<text text-anchor=\"middle\" x=\"61\" y=\"-201.29\" font-family=\"Times,serif\" font-size=\"14.00\">~</text>\n",
       "<text text-anchor=\"middle\" x=\"61\" y=\"-184.49\" font-family=\"Times,serif\" font-size=\"14.00\">MutableData</text>\n",
       "</g>\n",
       "<!-- y -->\n",
       "<g id=\"node2\" class=\"node\">\n",
       "<title>y</title>\n",
       "<ellipse fill=\"lightgrey\" stroke=\"black\" cx=\"58\" cy=\"-82.1\" rx=\"41.61\" ry=\"41.09\"/>\n",
       "<text text-anchor=\"middle\" x=\"58\" y=\"-94.7\" font-family=\"Times,serif\" font-size=\"14.00\">y</text>\n",
       "<text text-anchor=\"middle\" x=\"58\" y=\"-77.9\" font-family=\"Times,serif\" font-size=\"14.00\">~</text>\n",
       "<text text-anchor=\"middle\" x=\"58\" y=\"-61.1\" font-family=\"Times,serif\" font-size=\"14.00\">Normal</text>\n",
       "</g>\n",
       "<!-- floor_idx&#45;&gt;y -->\n",
       "<g id=\"edge3\" class=\"edge\">\n",
       "<title>floor_idx&#45;&gt;y</title>\n",
       "<path fill=\"none\" stroke=\"black\" d=\"M60.3,-176.02C59.99,-163.51 59.61,-148.41 59.26,-134.06\"/>\n",
       "<polygon fill=\"black\" stroke=\"black\" points=\"62.75,-133.7 59.01,-123.79 55.75,-133.87 62.75,-133.7\"/>\n",
       "</g>\n",
       "<!-- y&#45;&gt;y -->\n",
       "<g id=\"edge4\" class=\"edge\">\n",
       "<title>y&#45;&gt;y</title>\n",
       "<path fill=\"none\" stroke=\"black\" d=\"M92.87,-104.88C106.35,-105.89 117.55,-98.3 117.55,-82.1 117.55,-70.2 111.51,-62.94 102.96,-60.32\"/>\n",
       "<polygon fill=\"black\" stroke=\"black\" points=\"103.17,-56.83 92.87,-59.31 102.47,-63.79 103.17,-56.83\"/>\n",
       "</g>\n",
       "<!-- a -->\n",
       "<g id=\"node3\" class=\"node\">\n",
       "<title>a</title>\n",
       "<ellipse fill=\"none\" stroke=\"black\" cx=\"184\" cy=\"-205.49\" rx=\"41.61\" ry=\"41.09\"/>\n",
       "<text text-anchor=\"middle\" x=\"184\" y=\"-218.09\" font-family=\"Times,serif\" font-size=\"14.00\">a</text>\n",
       "<text text-anchor=\"middle\" x=\"184\" y=\"-201.29\" font-family=\"Times,serif\" font-size=\"14.00\">~</text>\n",
       "<text text-anchor=\"middle\" x=\"184\" y=\"-184.49\" font-family=\"Times,serif\" font-size=\"14.00\">Normal</text>\n",
       "</g>\n",
       "<!-- a&#45;&gt;y -->\n",
       "<g id=\"edge1\" class=\"edge\">\n",
       "<title>a&#45;&gt;y</title>\n",
       "<path fill=\"none\" stroke=\"black\" d=\"M162.3,-170.14C153.21,-157.19 141.98,-142.84 130,-131.39 121.67,-123.43 111.88,-115.91 102.25,-109.28\"/>\n",
       "<polygon fill=\"black\" stroke=\"black\" points=\"104.13,-106.33 93.87,-103.69 100.25,-112.15 104.13,-106.33\"/>\n",
       "</g>\n",
       "<!-- sigma -->\n",
       "<g id=\"node4\" class=\"node\">\n",
       "<title>sigma</title>\n",
       "<ellipse fill=\"none\" stroke=\"black\" cx=\"303\" cy=\"-205.49\" rx=\"59.3\" ry=\"41.09\"/>\n",
       "<text text-anchor=\"middle\" x=\"303\" y=\"-218.09\" font-family=\"Times,serif\" font-size=\"14.00\">sigma</text>\n",
       "<text text-anchor=\"middle\" x=\"303\" y=\"-201.29\" font-family=\"Times,serif\" font-size=\"14.00\">~</text>\n",
       "<text text-anchor=\"middle\" x=\"303\" y=\"-184.49\" font-family=\"Times,serif\" font-size=\"14.00\">Exponential</text>\n",
       "</g>\n",
       "<!-- sigma&#45;&gt;y -->\n",
       "<g id=\"edge2\" class=\"edge\">\n",
       "<title>sigma&#45;&gt;y</title>\n",
       "<path fill=\"none\" stroke=\"black\" d=\"M277.67,-167.97C266.83,-154.74 253.17,-140.76 238,-131.39 198.74,-107.16 147.37,-94.93 109.56,-88.86\"/>\n",
       "<polygon fill=\"black\" stroke=\"black\" points=\"109.69,-85.34 99.28,-87.31 108.64,-92.26 109.69,-85.34\"/>\n",
       "</g>\n",
       "</g>\n",
       "</svg>\n"
      ],
      "text/plain": [
       "<graphviz.graphs.Digraph at 0x11fc81250>"
      ]
     },
     "execution_count": 9,
     "metadata": {},
     "output_type": "execute_result"
    }
   ],
   "source": [
    "coords = {\"Level\": [\"Basement\", \"Floor\"], \"obs_id\": np.arange(floor.size)}\n",
    "with pm.Model(coords=coords) as pooled_model:\n",
    "    floor_idx = pm.Data(\"floor_idx\", floor, dims=\"obs_id\")\n",
    "    a = pm.Normal(\"a\", 0.0, sigma=10.0, dims=\"Level\")\n",
    "\n",
    "    theta = a[floor_idx]\n",
    "    sigma = pm.Exponential(\"sigma\", 1.0)\n",
    "\n",
    "    y = pm.Normal(\"y\", theta, sigma=sigma, observed=log_radon, dims=\"obs_id\")\n",
    "\n",
    "pm.model_to_graphviz(pooled_model)"
   ]
  },
  {
   "cell_type": "code",
   "execution_count": 10,
   "id": "772dbee9-4a5b-4f1b-9417-dcfb1589f83b",
   "metadata": {},
   "outputs": [
    {
     "data": {
      "image/png": "[encoded data removed]",
      "text/plain": [
       "<Figure size 720x480 with 1 Axes>"
      ]
     },
     "metadata": {},
     "output_type": "display_data"
    }
   ],
   "source": [
    "with pooled_model:\n",
    "    prior_checks = pm.sample_prior_predictive(random_seed=RANDOM_SEED)\n",
    "\n",
    "_, ax = plt.subplots()\n",
    "prior_checks.prior.plot.scatter(x=\"Level\", y=\"a\", color=\"k\", alpha=0.2, ax=ax)\n",
    "ax.set_ylabel(\"Mean log radon level\");"
   ]
  },
  {
   "cell_type": "code",
   "execution_count": 11,
   "id": "738399e9-eab0-4627-bce4-304c0e50d744",
   "metadata": {},
   "outputs": [],
   "source": [
    "from sklearn.linear_model import LinearRegression\n",
    "\n",
    "X = srrs_mn['floor']\n",
    "intercept = np.ones_like(X)\n",
    "y = srrs_mn[\"log_radon\"]"
   ]
  },
  {
   "cell_type": "code",
   "execution_count": 41,
   "id": "ef3050d8",
   "metadata": {},
   "outputs": [],
   "source": []
  },
  {
   "cell_type": "code",
   "execution_count": 40,
   "id": "c2c901df",
   "metadata": {},
   "outputs": [
    {
     "data": {
      "text/plain": [
       "0      1\n",
       "1      0\n",
       "2      0\n",
       "3      0\n",
       "4      0\n",
       "      ..\n",
       "922    0\n",
       "923    0\n",
       "924    0\n",
       "925    0\n",
       "926    0\n",
       "Name: floor, Length: 919, dtype: int64"
      ]
     },
     "execution_count": 40,
     "metadata": {},
     "output_type": "execute_result"
    }
   ],
   "source": [
    "X"
   ]
  },
  {
   "cell_type": "code",
   "execution_count": 49,
   "id": "e2ca6ef1",
   "metadata": {},
   "outputs": [],
   "source": [
    "X = np.stack((X, intercept), axis=1)"
   ]
  },
  {
   "cell_type": "code",
   "execution_count": 53,
   "id": "f5c25f45",
   "metadata": {},
   "outputs": [],
   "source": [
    "lr = LinearRegression().fit(X, y)"
   ]
  },
  {
   "cell_type": "code",
   "execution_count": 54,
   "id": "874810e4",
   "metadata": {},
   "outputs": [
    {
     "data": {
      "text/plain": [
       "array([-0.58642182,  0.        ])"
      ]
     },
     "execution_count": 54,
     "metadata": {},
     "output_type": "execute_result"
    }
   ],
   "source": [
    "lr.coef_"
   ]
  },
  {
   "cell_type": "code",
   "execution_count": 55,
   "id": "97c225b0",
   "metadata": {},
   "outputs": [],
   "source": [
    "import statsmodels\n",
    "import statsmodels.api as sm\n",
    "\n",
    "mod = sm.OLS(y, X)\n",
    "res = mod.fit()\n",
    "res.summary()"
   ]
  },
  {
   "cell_type": "code",
   "execution_count": 56,
   "id": "e77e282b",
   "metadata": {},
   "outputs": [],
   "source": []
  },
  {
   "cell_type": "code",
   "execution_count": 57,
   "id": "3001efc0",
   "metadata": {},
   "outputs": [
    {
     "data": {
      "text/html": [
       "<table class=\"simpletable\">\n",
       "<caption>OLS Regression Results</caption>\n",
       "<tr>\n",
       "  <th>Dep. Variable:</th>        <td>log_radon</td>    <th>  R-squared:         </th> <td>   0.071</td>\n",
       "</tr>\n",
       "<tr>\n",
       "  <th>Model:</th>                   <td>OLS</td>       <th>  Adj. R-squared:    </th> <td>   0.070</td>\n",
       "</tr>\n",
       "<tr>\n",
       "  <th>Method:</th>             <td>Least Squares</td>  <th>  F-statistic:       </th> <td>   70.25</td>\n",
       "</tr>\n",
       "<tr>\n",
       "  <th>Date:</th>             <td>Fri, 11 Mar 2022</td> <th>  Prob (F-statistic):</th> <td>1.95e-16</td>\n",
       "</tr>\n",
       "<tr>\n",
       "  <th>Time:</th>                 <td>16:14:12</td>     <th>  Log-Likelihood:    </th> <td> -1086.5</td>\n",
       "</tr>\n",
       "<tr>\n",
       "  <th>No. Observations:</th>      <td>   919</td>      <th>  AIC:               </th> <td>   2177.</td>\n",
       "</tr>\n",
       "<tr>\n",
       "  <th>Df Residuals:</th>          <td>   917</td>      <th>  BIC:               </th> <td>   2187.</td>\n",
       "</tr>\n",
       "<tr>\n",
       "  <th>Df Model:</th>              <td>     1</td>      <th>                     </th>     <td> </td>   \n",
       "</tr>\n",
       "<tr>\n",
       "  <th>Covariance Type:</th>      <td>nonrobust</td>    <th>                     </th>     <td> </td>   \n",
       "</tr>\n",
       "</table>\n",
       "<table class=\"simpletable\">\n",
       "<tr>\n",
       "    <td></td>       <th>coef</th>     <th>std err</th>      <th>t</th>      <th>P>|t|</th>  <th>[0.025</th>    <th>0.975]</th>  \n",
       "</tr>\n",
       "<tr>\n",
       "  <th>x1</th>    <td>   -0.5864</td> <td>    0.070</td> <td>   -8.382</td> <td> 0.000</td> <td>   -0.724</td> <td>   -0.449</td>\n",
       "</tr>\n",
       "<tr>\n",
       "  <th>const</th> <td>    1.3624</td> <td>    0.029</td> <td>   47.725</td> <td> 0.000</td> <td>    1.306</td> <td>    1.418</td>\n",
       "</tr>\n",
       "</table>\n",
       "<table class=\"simpletable\">\n",
       "<tr>\n",
       "  <th>Omnibus:</th>       <td>14.572</td> <th>  Durbin-Watson:     </th> <td>   1.645</td>\n",
       "</tr>\n",
       "<tr>\n",
       "  <th>Prob(Omnibus):</th> <td> 0.001</td> <th>  Jarque-Bera (JB):  </th> <td>  21.471</td>\n",
       "</tr>\n",
       "<tr>\n",
       "  <th>Skew:</th>          <td>-0.139</td> <th>  Prob(JB):          </th> <td>2.18e-05</td>\n",
       "</tr>\n",
       "<tr>\n",
       "  <th>Kurtosis:</th>      <td> 3.696</td> <th>  Cond. No.          </th> <td>    2.77</td>\n",
       "</tr>\n",
       "</table><br/><br/>Notes:<br/>[1] Standard Errors assume that the covariance matrix of the errors is correctly specified."
      ],
      "text/plain": [
       "<class 'statsmodels.iolib.summary.Summary'>\n",
       "\"\"\"\n",
       "                            OLS Regression Results                            \n",
       "==============================================================================\n",
       "Dep. Variable:              log_radon   R-squared:                       0.071\n",
       "Model:                            OLS   Adj. R-squared:                  0.070\n",
       "Method:                 Least Squares   F-statistic:                     70.25\n",
       "Date:                Fri, 11 Mar 2022   Prob (F-statistic):           1.95e-16\n",
       "Time:                        16:14:12   Log-Likelihood:                -1086.5\n",
       "No. Observations:                 919   AIC:                             2177.\n",
       "Df Residuals:                     917   BIC:                             2187.\n",
       "Df Model:                           1                                         \n",
       "Covariance Type:            nonrobust                                         \n",
       "==============================================================================\n",
       "                 coef    std err          t      P>|t|      [0.025      0.975]\n",
       "------------------------------------------------------------------------------\n",
       "x1            -0.5864      0.070     -8.382      0.000      -0.724      -0.449\n",
       "const          1.3624      0.029     47.725      0.000       1.306       1.418\n",
       "==============================================================================\n",
       "Omnibus:                       14.572   Durbin-Watson:                   1.645\n",
       "Prob(Omnibus):                  0.001   Jarque-Bera (JB):               21.471\n",
       "Skew:                          -0.139   Prob(JB):                     2.18e-05\n",
       "Kurtosis:                       3.696   Cond. No.                         2.77\n",
       "==============================================================================\n",
       "\n",
       "Notes:\n",
       "[1] Standard Errors assume that the covariance matrix of the errors is correctly specified.\n",
       "\"\"\""
      ]
     },
     "execution_count": 57,
     "metadata": {},
     "output_type": "execute_result"
    }
   ],
   "source": []
  },
  {
   "cell_type": "code",
   "execution_count": null,
   "id": "9e22758e",
   "metadata": {},
   "outputs": [],
   "source": []
  }
 ],
 "metadata": {
  "kernelspec": {
   "display_name": "study-group",
   "language": "python",
   "name": "study-group"
  },
  "language_info": {
   "codemirror_mode": {
    "name": "ipython",
    "version": 3
   },
   "file_extension": ".py",
   "mimetype": "text/x-python",
   "name": "python",
   "nbconvert_exporter": "python",
   "pygments_lexer": "ipython3",
   "version": "3.9.10"
  }
 },
 "nbformat": 4,
 "nbformat_minor": 5
}
